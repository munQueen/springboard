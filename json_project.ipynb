{
 "cells": [
  {
   "cell_type": "code",
   "execution_count": 1,
   "metadata": {},
   "outputs": [],
   "source": [
    "import pandas as pd\n",
    "from pandas.io.json import json_normalize\n",
    "import json\n",
    "\n",
    "# load the data in, both into a DataFrame and a list \n",
    "datafile = 'C:/Learning/ML/springboard_projects/data_wrangling_json/data/world_bank_projects.json'\n",
    "json_df = pd.read_json(datafile)\n",
    "json_list = json.load(open(datafile))"
   ]
  },
  {
   "cell_type": "code",
   "execution_count": 2,
   "metadata": {},
   "outputs": [
    {
     "name": "stdout",
     "output_type": "stream",
     "text": [
      "People's Republic of China         19\n",
      "Republic of Indonesia              19\n",
      "Socialist Republic of Vietnam      17\n",
      "Republic of India                  16\n",
      "Republic of Yemen                  13\n",
      "Nepal                              12\n",
      "Kingdom of Morocco                 12\n",
      "People's Republic of Bangladesh    12\n",
      "Africa                             11\n",
      "Republic of Mozambique             11\n",
      "Name: countryname, dtype: int64\n"
     ]
    }
   ],
   "source": [
    "# Question 1 - identify the top ten countries\n",
    "countries = json_df.countryname.value_counts()[0:10]\n",
    "print(countries)"
   ]
  },
  {
   "cell_type": "code",
   "execution_count": 3,
   "metadata": {
    "scrolled": false
   },
   "outputs": [
    {
     "name": "stdout",
     "output_type": "stream",
     "text": [
      "11    250\n",
      "10    216\n",
      "8     210\n",
      "2     199\n",
      "6     168\n",
      "4     146\n",
      "7     130\n",
      "5      77\n",
      "9      50\n",
      "1      38\n",
      "3      15\n",
      "Name: code, dtype: int64\n"
     ]
    }
   ],
   "source": [
    "# Question 2 - identify the top ten codes \n",
    "# Create a DataFrame using json_normalize\n",
    "project_themes = json_normalize(json_list, 'mjtheme_namecode')\n",
    "\n",
    "# Look at the data by codes - this is accurate, but not meaningful as the codes are not informative\n",
    "top_codes = project_themes.code.value_counts()\n",
    "print(top_codes)"
   ]
  },
  {
   "cell_type": "code",
   "execution_count": 4,
   "metadata": {},
   "outputs": [
    {
     "name": "stdout",
     "output_type": "stream",
     "text": [
      "Environment and natural resources management    223\n",
      "Rural development                               202\n",
      "Human development                               197\n",
      "Public sector governance                        184\n",
      "Social protection and risk management           158\n",
      "Financial and private sector development        130\n",
      "                                                122\n",
      "Social dev/gender/inclusion                     119\n",
      "Trade and integration                            72\n",
      "Urban development                                47\n",
      "Economic management                              33\n",
      "Rule of law                                      12\n",
      "Name: name, dtype: int64\n"
     ]
    }
   ],
   "source": [
    "# Look at the data by names - this is inaccurate, given the many cases missing a label\n",
    "top_names = project_themes.name.value_counts()\n",
    "print(top_names)\n",
    "\n",
    "# As neither of these answers are satisfactory, we will need to populate the labels for records missing names "
   ]
  },
  {
   "cell_type": "code",
   "execution_count": 5,
   "metadata": {},
   "outputs": [
    {
     "name": "stdout",
     "output_type": "stream",
     "text": [
      "Empty DataFrame\n",
      "Columns: [code, name_original, name_populated]\n",
      "Index: []\n",
      "Environment and natural resources management    250\n",
      "Rural development                               216\n",
      "Human development                               210\n",
      "Public sector governance                        199\n",
      "Social protection and risk management           168\n",
      "Financial and private sector development        146\n",
      "Social dev/gender/inclusion                     130\n",
      "Trade and integration                            77\n",
      "Urban development                                50\n",
      "Economic management                              38\n",
      "Name: name_populated, dtype: int64\n"
     ]
    }
   ],
   "source": [
    "# Question 3 - Label the data correctly\n",
    "# Begin by making a DataFrame which has the label for each code, with no missing records\n",
    "populated_codes = project_themes[project_themes['name'] != ''].dropna().drop_duplicates()\n",
    "\n",
    "# Merge this code mapping file back into the original dataset\n",
    "merged_themes = project_themes.merge(populated_codes, on='code', suffixes = ['_original', '_populated'])\n",
    "# Ensure that the new 'name_populated' column has no missing values, then show top ten values\n",
    "print(merged_themes[merged_themes['name_populated'] == ''])\n",
    "print(merged_themes.name_populated.value_counts()[0:10])"
   ]
  },
  {
   "cell_type": "code",
   "execution_count": null,
   "metadata": {},
   "outputs": [],
   "source": []
  }
 ],
 "metadata": {
  "kernelspec": {
   "display_name": "Python 3",
   "language": "python",
   "name": "python3"
  },
  "language_info": {
   "codemirror_mode": {
    "name": "ipython",
    "version": 3
   },
   "file_extension": ".py",
   "mimetype": "text/x-python",
   "name": "python",
   "nbconvert_exporter": "python",
   "pygments_lexer": "ipython3",
   "version": "3.7.1"
  }
 },
 "nbformat": 4,
 "nbformat_minor": 2
}
